{
 "cells": [
  {
   "cell_type": "markdown",
   "id": "0de25a16",
   "metadata": {},
   "source": [
    "# Sample code to access and plot data from Socialstyrelsens databases\n",
    "\n",
    "### Anders Ledberg"
   ]
  },
  {
   "cell_type": "markdown",
   "id": "d2b1be85",
   "metadata": {},
   "source": [
    "Socialstyrelsen (National Board of Health and Welfare) has an API that we can use to fetch data from the databases they hold. See: https://sdb.socialstyrelsen.se/sdbapi.aspx (in Swedish)"
   ]
  },
  {
   "cell_type": "markdown",
   "id": "f8ee5508",
   "metadata": {},
   "source": [
    "First we import the libraries we need"
   ]
  },
  {
   "cell_type": "code",
   "execution_count": null,
   "id": "daadd3d8",
   "metadata": {},
   "outputs": [],
   "source": [
    "import pandas as pd\n",
    "import json\n",
    "from matplotlib import pyplot as plt\n",
    "import numpy as np"
   ]
  },
  {
   "cell_type": "markdown",
   "id": "0f90ec64",
   "metadata": {},
   "source": [
    "Next we access the age groups used (needed for the next example)"
   ]
  },
  {
   "cell_type": "code",
   "execution_count": null,
   "id": "a8a008ed",
   "metadata": {},
   "outputs": [],
   "source": [
    "## preamble to replace the age indices with actual age range\n",
    "url=\"http://sdb.socialstyrelsen.se/api/v1/sv/dodsorsaker/alder\"\n",
    "agevar=pd.read_json(url)\n",
    "agevar=dict(zip(agevar['id'],agevar['text']))"
   ]
  },
  {
   "cell_type": "markdown",
   "id": "0f24050c",
   "metadata": {},
   "source": [
    "## Example 1: Annual suicides"
   ]
  },
  {
   "cell_type": "markdown",
   "id": "2b7221a2",
   "metadata": {},
   "source": [
    "Here we will use data from the causes of death registry to investigate if the number of sucides per year has changed during the last 25 years. For more information about the registry see here: https://www.socialstyrelsen.se/statistik-och-data/register/dodsorsaksregistret/ (only in Swedish)"
   ]
  },
  {
   "cell_type": "code",
   "execution_count": null,
   "id": "307570ec",
   "metadata": {},
   "outputs": [],
   "source": [
    "## for example, let's look deaths deemed to be suicides (code is 2026)\n",
    "url=\"http://sdb.socialstyrelsen.se/api/v1/sv/dodsorsaker/resultat/matt/1/diagnos/2026/region/0/kon/1,2\"\n",
    "dat=pd.read_json(url)"
   ]
  },
  {
   "cell_type": "code",
   "execution_count": null,
   "id": "e9f74600",
   "metadata": {},
   "outputs": [],
   "source": [
    "## reshape the data into a pandas dataframe\n",
    "df=pd.DataFrame(dat['data'].to_list())\n",
    "## create a variable that has the right format\n",
    "df['count']=df['varde'].apply(pd.to_numeric)\n",
    "\n",
    "## change the values for sex\n",
    "df.loc[df[\"konId\"]==1,'konId']=\"men\"\n",
    "df.loc[df[\"konId\"]==2,'konId']=\"women\"\n",
    "df.head(6)"
   ]
  },
  {
   "cell_type": "markdown",
   "id": "50e3d5a8",
   "metadata": {},
   "source": [
    "Next we can plot the data, for men and women separately."
   ]
  },
  {
   "cell_type": "code",
   "execution_count": null,
   "id": "12833459",
   "metadata": {},
   "outputs": [],
   "source": [
    "## sum over age groups\n",
    "gdf=pd.DataFrame(df.groupby(['ar','konId'])['count'].sum())\n",
    "\n",
    "## set size of figure text \n",
    "plt.rc('axes', titlesize=22) \n",
    "plt.rc('axes', labelsize=18) \n",
    "## make a dataframe suitable for plotting\n",
    "dum = gdf.pivot_table(index='ar', columns='konId', values=['count'])\n",
    "ax=dum.plot(marker=\"*\",figsize=(12,8))\n",
    "ax.set(xlabel=\"year\", ylabel=\"number of cases\")\n",
    "ax.legend(['men','women'])\n",
    "plt.title(\"Suicides, all ages\")\n",
    "plt.grid()\n",
    "plt.show()\n"
   ]
  },
  {
   "cell_type": "markdown",
   "id": "bbd83c1b",
   "metadata": {},
   "source": [
    "## Example 2: Age distribution of suicides"
   ]
  },
  {
   "cell_type": "markdown",
   "id": "63e3dbec",
   "metadata": {},
   "source": [
    "In this example we instead look at how suicides vary by age group. To do this we use number of cases per 1000 inhabitants as the measure."
   ]
  },
  {
   "cell_type": "code",
   "execution_count": null,
   "id": "47ea2ec9",
   "metadata": {},
   "outputs": [],
   "source": [
    "## here we need to reload the data the another measure\n",
    "url=\"http://sdb.socialstyrelsen.se/api/v1/sv/dodsorsaker/resultat/matt/2/diagnos/2026/region/0/kon/1,2\"\n",
    "## C-19\n",
    "##url=\"http://sdb.socialstyrelsen.se/api/v1/sv/dodsorsaker/resultat/matt/2/diagnos/U07/region/0/kon/1,2\"\n",
    "dat=pd.read_json(url)\n",
    "## X42\n",
    "##url=\"http://sdb.socialstyrelsen.se/api/v1/sv/dodsorsaker/resultat/matt/2/diagnos/X42/region/0/kon/1,2\"\n",
    "##dat=pd.read_json(url)\n",
    "\n",
    "## reshape the data into a pandas dataframe\n",
    "df=pd.DataFrame(dat['data'].to_list())\n",
    "df['varde']=df['varde'].str.replace(\",\",\".\")\n",
    "## create a variable that has the right format\n",
    "df['fraction']=df['varde'].apply(pd.to_numeric)/100\n",
    "\n",
    "## change the values for sex\n",
    "df.loc[df[\"konId\"]==1,'konId']=\"men\"\n",
    "df.loc[df[\"konId\"]==2,'konId']=\"women\"\n",
    "\n",
    "gdf=pd.DataFrame(df.groupby(['alderId','konId'])['fraction'].mean())\n",
    "dum = gdf.pivot_table(index='alderId', columns='konId', values=['fraction'])\n",
    "dum=dum.assign(age=[agevar[i] for i in dum.index])\n",
    "dum.columns=dum.columns.map(','.join)\n",
    "ax=dum.plot(x=\"age,\",kind=\"bar\",figsize=(12,8))\n",
    "\n",
    "plt.rc('axes', titlesize=22) \n",
    "plt.rc('axes', labelsize=18) \n",
    "\n",
    "ax.set(xlabel=\"age group\", ylabel=\"cases per 1000 people\")\n",
    "ax.legend(['men','women'])\n",
    "plt.title(\"Suicides, average rates for 1997-2022\")\n",
    "plt.show()\n"
   ]
  },
  {
   "cell_type": "markdown",
   "id": "cb8a7560",
   "metadata": {},
   "source": [
    "## Example 3: Inpatient care occasions with F19 diagnosis"
   ]
  },
  {
   "cell_type": "markdown",
   "id": "b023e9aa",
   "metadata": {},
   "source": [
    "In this example we will istead use data from the Patient Registry  (https://www.socialstyrelsen.se/en/statistics-and-data/registers/national-patient-register/) and look at care occasions with a main diagnosis indicative of \"Mental and behavioural disorders due to multiple drug use and use of other psychoactive substances\" (see https://icd.who.int/browse10/2019/en#/F19)\n"
   ]
  },
  {
   "cell_type": "code",
   "execution_count": null,
   "id": "fcaa7d16",
   "metadata": {},
   "outputs": [],
   "source": [
    "## note how the URL is changing to use another database\n",
    "url=\"http://sdb.socialstyrelsen.se/api/v1/sv/diagnoserislutenvard/resultat/matt/6/diagnos/F19/region/0/kon/1,2/alder/19\"\n",
    "##pd.set_option('display.max_rows', 100)\n",
    "dat=pd.read_json(url)"
   ]
  },
  {
   "cell_type": "code",
   "execution_count": null,
   "id": "320e2484",
   "metadata": {},
   "outputs": [],
   "source": [
    "df=pd.DataFrame(dat['data'].to_list())\n",
    "df['antal']=df['varde'].apply(pd.to_numeric)\n",
    "df.loc[df[\"konId\"]==1,'konId']=\"men\"\n",
    "df.loc[df[\"konId\"]==2,'konId']=\"women\"\n",
    "## sum over age groups\n",
    "gdf=pd.DataFrame(df.groupby(['ar','konId'])['antal'].sum())\n",
    "\n",
    "dum = gdf.pivot_table(index='ar', columns='konId', values=['antal'])\n",
    "dum.columns=dum.columns.map(','.join)\n",
    "ax=dum.plot(marker=\"*\",figsize=(12,8))\n",
    "ax.set(xlabel=\"year\", ylabel=\"number of cases\")\n",
    "ax.legend(['men','women'])\n",
    "plt.title(\"Inpatient care under F19 diagnosis\")\n",
    "plt.grid()\n",
    "plt.show()\n"
   ]
  },
  {
   "cell_type": "code",
   "execution_count": null,
   "id": "eedee990",
   "metadata": {},
   "outputs": [],
   "source": []
  }
 ],
 "metadata": {
  "kernelspec": {
   "display_name": "Python 3 (ipykernel)",
   "language": "python",
   "name": "python3"
  },
  "language_info": {
   "codemirror_mode": {
    "name": "ipython",
    "version": 3
   },
   "file_extension": ".py",
   "mimetype": "text/x-python",
   "name": "python",
   "nbconvert_exporter": "python",
   "pygments_lexer": "ipython3",
   "version": "3.10.12"
  }
 },
 "nbformat": 4,
 "nbformat_minor": 5
}
