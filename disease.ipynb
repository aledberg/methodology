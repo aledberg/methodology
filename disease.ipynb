{
 "cells": [
  {
   "cell_type": "markdown",
   "id": "1013ed81",
   "metadata": {},
   "source": [
    "# Simulating disease outbreak\n",
    "\n",
    "### Anders Ledberg\n",
    "\n",
    "This notebook contains code for simulating the spread of a disease according to a discrete version of a SIR model.The population in the model live in a \"grid-world\" and can only be infected by their 8 neighbors.  "
   ]
  },
  {
   "cell_type": "code",
   "execution_count": null,
   "id": "06b9de86",
   "metadata": {},
   "outputs": [],
   "source": [
    "##%matplotlib widget\n",
    "##%matplotlib notebook\n",
    "import numpy as np\n",
    "import matplotlib.pyplot as plt\n",
    "import matplotlib.cm as cm\n",
    "import matplotlib.animation as animation\n",
    "## hack to allow ascessing the code in simEpi.py in Colab\n",
    "import os\n",
    "import sys\n",
    "sys.path.insert(0, os.getcwd()+\"/methodology\")\n",
    "!git clone https://github.com/aledberg/methodology.git\n",
    "from simEpi import simepi"
   ]
  },
  {
   "cell_type": "markdown",
   "id": "d29a2e5a",
   "metadata": {},
   "source": [
    "Simulate disease spread for an N by N grid for T time units. The code that does the job is in simEpi.py so please see that file for more details of the model. Note that even with a quite small grid (say 50 by 50) we are simulating the disease history of 2500 inhabitants for a number of time steps. In other words, it takes time. "
   ]
  },
  {
   "cell_type": "code",
   "execution_count": null,
   "id": "accea2f4",
   "metadata": {},
   "outputs": [],
   "source": [
    "N=50 ## size of grid\n",
    "T=250 ## number of \"days\" to simulate\n",
    "n_inits=5 ## number of individuals in the population who are infected at time 0\n",
    "pr_s_to_i=0.05 ## probability of spreading the infection on each time step\n",
    "pr_i_to_r=0.1 ## probability of recovery \n",
    "arr,sval,ival,rval,fval=simepi(nrow=N,ncol=N,nsteps=T,ninit=n_inits,stoi=pr_s_to_i,itor=pr_i_to_r)"
   ]
  },
  {
   "cell_type": "code",
   "execution_count": null,
   "id": "02027b4e",
   "metadata": {},
   "outputs": [],
   "source": [
    "## plot the data\n",
    "fig=plt.figure(figsize=(10,10));\n",
    "##fig, ax=plt.subplots();\n",
    "##fig=plt.figure()\n",
    "frames=[]\n",
    "for i in range(len(arr)):\n",
    "    tmpframe=plt.imshow(arr[i], cmap=cm.Greys_r,animated=False);\n",
    "    frames.append([tmpframe])\n",
    "plt.close();\n",
    "ani = animation.ArtistAnimation(fig, frames, interval=50, blit=True,repeat_delay=10);"
   ]
  },
  {
   "cell_type": "code",
   "execution_count": null,
   "id": "eb0923ce",
   "metadata": {},
   "outputs": [],
   "source": [
    "from IPython.display import HTML\n",
    "from IPython.display import display\n",
    "##HTML(ani.to_html5_video())\n",
    "display(HTML(ani.to_jshtml()))"
   ]
  },
  {
   "cell_type": "code",
   "execution_count": null,
   "id": "0c8cb5cb-856a-46a2-ade4-405707522102",
   "metadata": {},
   "outputs": [],
   "source": []
  }
 ],
 "metadata": {
  "kernelspec": {
   "display_name": "Python 3 (ipykernel)",
   "language": "python",
   "name": "python3"
  },
  "language_info": {
   "codemirror_mode": {
    "name": "ipython",
    "version": 3
   },
   "file_extension": ".py",
   "mimetype": "text/x-python",
   "name": "python",
   "nbconvert_exporter": "python",
   "pygments_lexer": "ipython3",
   "version": "3.10.12"
  }
 },
 "nbformat": 4,
 "nbformat_minor": 5
}
