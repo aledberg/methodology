{
 "cells": [
  {
   "cell_type": "markdown",
   "id": "2d5f14ad",
   "metadata": {},
   "source": [
    "# Simulate transitions from a saddle node \n",
    "We use the escape from a saddle node as a simple model of lifespan"
   ]
  },
  {
   "cell_type": "markdown",
   "id": "69e5331a",
   "metadata": {},
   "source": [
    "import numpy as np\n",
    "import numpy.random as rnd\n",
    "import matplotlib.pyplot as plt\n",
    "##matplotlib.use(\"notebook\")\n",
    "N = 100\n",
    "etime = list()\n",
    "dt = 0.1\n",
    "T = 365*150\n",
    "x = np.tile(0.0,T)\n",
    "sqdt=np.sqrt(dt)\n",
    "for n in range(N):\n",
    "    x0=-1\n",
    "    \n",
    "    sigma = 2.5\n",
    "\n",
    "    ## parameters controllong the height of the barrier\n",
    "    beta=13\n",
    "    x[0]=x0\n",
    "    t = 1\n",
    "    while (t < T):\n",
    "        ## simple forward Euler\n",
    "        beta=beta - 2.5e-4\n",
    "        x[t] = x[t-1]+dt*(x[t-1]**2-beta)+sqdt*rnd.randn()*sigma\n",
    "        if (x[t] > 5):\n",
    "            break\n",
    "        t = t+1\n",
    "    etime.append(t/365.25)\n",
    "\n",
    "print(etime)\n"
   ]
  },
  {
   "cell_type": "markdown",
   "id": "a49514f5",
   "metadata": {},
   "source": [
    "## Make a histogram"
   ]
  },
  {
   "cell_type": "code",
   "execution_count": null,
   "id": "55ca94c6",
   "metadata": {},
   "outputs": [],
   "source": [
    "plt.hist(etime,30)\n",
    "plt.show()"
   ]
  }
 ],
 "metadata": {
  "kernelspec": {
   "display_name": "Python 3 (ipykernel)",
   "language": "python",
   "name": "python3"
  },
  "language_info": {
   "codemirror_mode": {
    "name": "ipython",
    "version": 3
   },
   "file_extension": ".py",
   "mimetype": "text/x-python",
   "name": "python",
   "nbconvert_exporter": "python",
   "pygments_lexer": "ipython3",
   "version": "3.10.12"
  }
 },
 "nbformat": 4,
 "nbformat_minor": 5
}
