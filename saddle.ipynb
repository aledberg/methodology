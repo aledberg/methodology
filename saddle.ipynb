{
 "cells": [
  {
   "cell_type": "markdown",
   "id": "2d5f14ad",
   "metadata": {},
   "source": [
    "# A stochastic model of mortality\n",
    "\n",
    "### Anders Ledberg\n",
    "Here we will use the escape of a Brownian particle as a simple model of lifespans. The particle is moving in a potential given by $V(x)=-x^3 +\\beta x$, where $\\beta$ is the parameter in the model that represent age. Models of this type have been considered previoulsy in the literature, see for example the 1962 paper by Sacher and Trucco entitled [The Stochastic Theory of Mortality](https://nyaspubs.onlinelibrary.wiley.com/doi/10.1111/j.1749-6632.1962.tb54116.x). The code below simulates \"life-histories\" for N individuals and returns the age at which they died (in the variable etime)."
   ]
  },
  {
   "cell_type": "code",
   "execution_count": null,
   "id": "f7912556",
   "metadata": {},
   "outputs": [],
   "source": [
    "import numpy as np\n",
    "import numpy.random as rnd\n",
    "import matplotlib.pyplot as plt\n",
    "##matplotlib.use(\"notebook\")\n",
    "N = 100\n",
    "etime = list()\n",
    "dt = 0.1\n",
    "T = 365*150\n",
    "x = np.tile(0.0,T)\n",
    "sqdt=np.sqrt(dt)\n",
    "for n in range(N):\n",
    "    x0=-1\n",
    "    \n",
    "    sigma = 2.5\n",
    "\n",
    "    ## parameters controllong the height of the barrier\n",
    "    beta=13\n",
    "    x[0]=x0\n",
    "    t = 1\n",
    "    while (t < T):\n",
    "        ## simple forward Euler\n",
    "        beta=beta - 2.5e-4\n",
    "        x[t] = x[t-1]+dt*(x[t-1]**2-beta)+sqdt*rnd.randn()*sigma\n",
    "        if (x[t] > 5):\n",
    "            break\n",
    "        t = t+1\n",
    "    etime.append(t/365.25)"
   ]
  },
  {
   "cell_type": "markdown",
   "id": "9e3bbf18",
   "metadata": {},
   "source": [
    "Print the lifespans produced by the model. If you use a large N you might want to skip this step."
   ]
  },
  {
   "cell_type": "code",
   "execution_count": null,
   "id": "064fc34f",
   "metadata": {},
   "outputs": [],
   "source": [
    "for t in etime:\n",
    "    print(round(t),end=\"; \")"
   ]
  },
  {
   "cell_type": "markdown",
   "id": "a49514f5",
   "metadata": {},
   "source": [
    "Display the data in terms of a histogram instead."
   ]
  },
  {
   "cell_type": "code",
   "execution_count": null,
   "id": "55ca94c6",
   "metadata": {},
   "outputs": [],
   "source": [
    "plt.hist(etime,30)\n",
    "plt.show()"
   ]
  }
 ],
 "metadata": {
  "kernelspec": {
   "display_name": "Python 3 (ipykernel)",
   "language": "python",
   "name": "python3"
  },
  "language_info": {
   "codemirror_mode": {
    "name": "ipython",
    "version": 3
   },
   "file_extension": ".py",
   "mimetype": "text/x-python",
   "name": "python",
   "nbconvert_exporter": "python",
   "pygments_lexer": "ipython3",
   "version": "3.10.12"
  }
 },
 "nbformat": 4,
 "nbformat_minor": 5
}
