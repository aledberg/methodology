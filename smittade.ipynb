{
 "cells": [
  {
   "cell_type": "code",
   "execution_count": null,
   "id": "b8f110d8",
   "metadata": {},
   "outputs": [],
   "source": [
    "## importera funktioner vi behöver och definiera funktionen vi ska lösa\n",
    "from  math import exp\n",
    "from scipy.optimize import fsolve\n",
    "\n",
    "def myf(x):\n",
    "    return(1-x[0]-math.exp(-R0*x[0]))"
   ]
  },
  {
   "cell_type": "code",
   "execution_count": null,
   "id": "882d4a6d",
   "metadata": {},
   "outputs": [],
   "source": [
    "## definiera R0 och lös ekvationenen\n",
    "R0=1.0\n",
    "z=fsolve(myf,0.4)\n",
    "print(z)"
   ]
  }
 ],
 "metadata": {
  "kernelspec": {
   "display_name": "Python 3 (ipykernel)",
   "language": "python",
   "name": "python3"
  }
 },
 "nbformat": 4,
 "nbformat_minor": 5
}
