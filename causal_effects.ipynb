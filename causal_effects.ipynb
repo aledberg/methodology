{
 "cells": [
  {
   "cell_type": "markdown",
   "id": "449bd4d1",
   "metadata": {},
   "source": [
    "# Causal effects"
   ]
  },
  {
   "cell_type": "markdown",
   "id": "5e55ae65",
   "metadata": {},
   "source": [
    "In this notebook we will look at the difference between individual and average causal effects in the setting of a trial of a new school-performance-enhancing drug. If you take the drug (the hope is that) your performance (number of points) on the exam will improve.  \n",
    "\n",
    "The individual causal effect is the difference between the doing the exam after taking the drug and doing the exam without taking the drug. Not possible to observe, it's counterfactual. \n",
    "\n",
    "The average causal effect may however be observed in certain circumstances. The point with the notebook is to illustrate how these two causal effects relate to each other. "
   ]
  },
  {
   "cell_type": "code",
   "execution_count": null,
   "id": "db3a71af",
   "metadata": {},
   "outputs": [],
   "source": [
    "## seed the random number generator\n",
    "##import random\n",
    "from numpy import random \n",
    "random.seed()"
   ]
  },
  {
   "cell_type": "code",
   "execution_count": null,
   "id": "47e23748",
   "metadata": {},
   "outputs": [],
   "source": [
    "## determine if you will belong to treatment or controll group\n",
    "## that is, assign the treatments. \n",
    "## here 1 is treated and 0 is untreated\n",
    "treatment=int(random.random()>0.5)\n",
    "print(\"I ended up in group \" + str(treatment))"
   ]
  },
  {
   "cell_type": "code",
   "execution_count": null,
   "id": "6551c864",
   "metadata": {},
   "outputs": [],
   "source": [
    "## next we assign the possibly counterfactual value to the two possible states \n",
    "average_causal_effect = 1\n",
    "individual_causal_effect=round(random.normal(average_causal_effect,4,1)[0])\n",
    "points_without_drug = random.binomial(20,0.7,1)[0]\n",
    "points_with_drug = min(points_without_drug + individual_causal_effect,20)\n",
    "\n",
    "print(\"individual causal effect: \" + str(individual_causal_effect))\n",
    "print(\"points without drugs: \" + str(points_without_drug))\n",
    "print(\"points with drugs: \" + str(points_with_drug))"
   ]
  }
 ],
 "metadata": {
  "kernelspec": {
   "display_name": "Python 3 (ipykernel)",
   "language": "python",
   "name": "python3"
  },
  "language_info": {
   "codemirror_mode": {
    "name": "ipython",
    "version": 3
   },
   "file_extension": ".py",
   "mimetype": "text/x-python",
   "name": "python",
   "nbconvert_exporter": "python",
   "pygments_lexer": "ipython3",
   "version": "3.10.12"
  }
 },
 "nbformat": 4,
 "nbformat_minor": 5
}
