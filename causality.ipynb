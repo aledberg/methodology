{
 "cells": [
  {
   "cell_type": "markdown",
   "id": "05f37742",
   "metadata": {},
   "source": [
    "# Causal graphs\n",
    "\n",
    "Anders Ledberg\n",
    "\n",
    "In this notebook we will do some simple exercises to illustrate the concept of confounding and collider. \n",
    "\n",
    "\n",
    "## Confounding\n",
    "\n",
    "Let's start with confounding. A variable Z is counfounding the association between X and Y, iff Z has a causal influence on both X and Y. Let's draw a graph:"
   ]
  },
  {
   "cell_type": "code",
   "execution_count": null,
   "id": "a6844b55",
   "metadata": {},
   "outputs": [],
   "source": [
    "import matplotlib.pyplot as plt\n",
    "import networkx as nx\n",
    "import numpy as np\n",
    "\n",
    "\n",
    "# create a directed multi-graph\n",
    "G = nx.MultiDiGraph()\n",
    "##G.add_node(1,val=\"A\")\n",
    "G.add_edges_from([\n",
    "    (\"X\", \"Y\"),\n",
    "    (\"Z\", \"X\"),\n",
    "    (\"Z\", \"Y\"),\n",
    "])\n",
    "plt.figure(figsize=(3,3))\n",
    "## set the positions\n",
    "mypos={'X':(0,0),'Z':(1,1),'Y':(2,0)}\n",
    "layout = nx.spring_layout(G, weight='capacity', dim=2, k=20,\n",
    "                          pos=mypos)\n",
    "nx.draw(G, layout,with_labels=True,node_size=1000,font_size=20,node_color=\"lightgray\",width=3)\n",
    "plt.show()"
   ]
  },
  {
   "cell_type": "markdown",
   "id": "9670201e",
   "metadata": {},
   "source": [
    "Next we will generate data according to this model. In particular, we let the effect of Z be positive, but the effect of X on Y negative. "
   ]
  },
  {
   "cell_type": "code",
   "execution_count": null,
   "id": "9322e7f1",
   "metadata": {},
   "outputs": [],
   "source": [
    "## define short-hands for random variable functions\n",
    "rnorm= np.random.default_rng().normal\n",
    "runif= np.random.default_rng().uniform\n",
    "\n",
    "## standard Normal distribution\n",
    "def u(N=100):\n",
    "    return(rnorm(size=N))\n",
    "\n",
    "## discrete uniform distribution between -1 and 1\n",
    "def uz(N=100):\n",
    "    return(np.round(runif(-10.5,10.5,N))/10)\n",
    "\n",
    "## number of samples\n",
    "N=10000\n",
    "\n",
    "## confounder\n",
    "Z=uz(N)\n",
    "## exposure\n",
    "X=2*Z + u(N)\n",
    "## outcome\n",
    "Y=5*Z -0.6*X + u(N)\n",
    "\n",
    "plt.plot(X,Y,'+')\n",
    "plt.xlabel(\"Exposure (X)\")\n",
    "plt.ylabel(\"Outcome (Y)\")\n",
    "plt.show()"
   ]
  },
  {
   "cell_type": "markdown",
   "id": "398308a7",
   "metadata": {},
   "source": [
    "There is a quite strong positive association between X and Y. We can quantify this using the correlation coefficient."
   ]
  },
  {
   "cell_type": "code",
   "execution_count": null,
   "id": "6b821de3",
   "metadata": {},
   "outputs": [],
   "source": [
    "print(np.corrcoef(X,Y))"
   ]
  },
  {
   "cell_type": "markdown",
   "id": "4376e6fa",
   "metadata": {},
   "source": [
    "Next we condition on Z and see how that affects the dependency between X and Y. That is, we keep Z constant, and look at the variation in X and Y. "
   ]
  },
  {
   "cell_type": "code",
   "execution_count": null,
   "id": "97ad2d1b",
   "metadata": {},
   "outputs": [],
   "source": [
    "## conditioning means to hold constant\n",
    "## hold z constant and see what happens\n",
    "## to check what values z takes we can do this:\n",
    "print(np.unique(Z))\n",
    "\n",
    "## fix Z at a particular value\n",
    "indx= Z==-0.2\n",
    "\n",
    "## plot the corresponding vaules of X and Y\n",
    "plt.plot(X[indx],Y[indx],'+')\n",
    "plt.xlabel(\"Exposure (X)\")\n",
    "plt.ylabel(\"Outcome (Y)\")\n",
    "plt.show()\n",
    "print(np.corrcoef(X[indx],Y[indx]))"
   ]
  },
  {
   "cell_type": "markdown",
   "id": "fa7f7e67",
   "metadata": {},
   "source": [
    "When we hold Z fixed the negative dependency between X and Y become clear. The positive dependence was all due to confounding. Please verify that the negative dependence is there also for some other values of Z."
   ]
  },
  {
   "cell_type": "markdown",
   "id": "69524ffa",
   "metadata": {},
   "source": [
    "\n",
    "\n",
    "## Colliders\n",
    "\n",
    "Next we consider the case of colliders. The corresponding causal graph looks like this:"
   ]
  },
  {
   "cell_type": "code",
   "execution_count": null,
   "id": "b1f24ece",
   "metadata": {},
   "outputs": [],
   "source": [
    "# create a directed multi-graph\n",
    "G = nx.MultiDiGraph()\n",
    "\n",
    "G.add_edges_from([\n",
    "    (\"X\", \"Z\"),\n",
    "    (\"Y\", \"Z\"),\n",
    "])\n",
    "plt.figure(figsize=(3,3))\n",
    "## set the positions\n",
    "mypos={'X':(0,0),'Z':(1,1),'Y':(2,0)}\n",
    "layout = nx.spring_layout(G, weight='capacity', dim=2, k=20,\n",
    "                          pos=mypos)\n",
    "nx.draw(G, layout,with_labels=True,node_size=1000,font_size=20,node_color=\"lightgray\",width=3)\n",
    "plt.show()"
   ]
  },
  {
   "cell_type": "markdown",
   "id": "b8c34d9e",
   "metadata": {},
   "source": [
    "Now we generate data according to this model."
   ]
  },
  {
   "cell_type": "code",
   "execution_count": null,
   "id": "185d8d1c",
   "metadata": {},
   "outputs": [],
   "source": [
    "## exposure\n",
    "X=u(N)\n",
    "## outcome\n",
    "Y=u(N)\n",
    "## collider\n",
    "Z=X+Y+uz(N)\n",
    "\n",
    "plt.plot(X,Y,'+')\n",
    "plt.xlabel(\"Exposure (X)\")\n",
    "plt.ylabel(\"Outcome (Y)\")\n",
    "plt.show()\n",
    "print(np.corrcoef(X,Y))"
   ]
  },
  {
   "cell_type": "markdown",
   "id": "c5e13c66",
   "metadata": {},
   "source": [
    "Here there is no indication of an association (i.e. dependence) between X and Y. Let's check what happens if we condition on Z?"
   ]
  },
  {
   "cell_type": "code",
   "execution_count": null,
   "id": "bb722706",
   "metadata": {},
   "outputs": [],
   "source": [
    "## restrict the variation of the collider Z\n",
    "indx= (Z>-0.3) & (Z < -0.2)\n",
    "plt.plot(X[indx],Y[indx],'+')\n",
    "plt.xlabel(\"Exposure (X)\")\n",
    "plt.ylabel(\"Outcome (Y)\")\n",
    "plt.show()\n",
    "\n",
    "print(np.corrcoef(X[indx],Y[indx]))"
   ]
  },
  {
   "cell_type": "markdown",
   "id": "c711f496",
   "metadata": {},
   "source": [
    "This time conditioning introduced a negative linear dependence between X and Y. Explain the reason for this."
   ]
  }
 ],
 "metadata": {
  "kernelspec": {
   "display_name": "Python 3 (ipykernel)",
   "language": "python",
   "name": "python3"
  },
  "language_info": {
   "codemirror_mode": {
    "name": "ipython",
    "version": 3
   },
   "file_extension": ".py",
   "mimetype": "text/x-python",
   "name": "python",
   "nbconvert_exporter": "python",
   "pygments_lexer": "ipython3",
   "version": "3.10.12"
  }
 },
 "nbformat": 4,
 "nbformat_minor": 5
}
