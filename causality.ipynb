{
 "cells": [
  {
   "cell_type": "code",
   "execution_count": null,
   "id": "d9cf3733",
   "metadata": {},
   "outputs": [],
   "source": [
    "import matplotlib.pyplot as plt\n",
    "import networkx as nx\n",
    "\n",
    "# create a directed multi-graph\n",
    "G = nx.MultiDiGraph()\n",
    "##G.add_node(1,val=\"A\")\n",
    "G.add_edges_from([\n",
    "    (\"X\", \"Y\"),\n",
    "    (\"Z\", \"X\"),\n",
    "    (\"Z\", \"Y\"),\n",
    "])\n",
    "plt.figure(figsize=(3,3))\n",
    "## set the positions\n",
    "mypos={'X':(0,0),'Z':(1,1),'Y':(2,0)}\n",
    "layout = nx.spring_layout(G, weight='capacity', dim=2, k=20,\n",
    "                          pos=mypos)\n",
    "nx.draw(G, layout,with_labels=True,node_size=1000,font_size=20,node_color=\"gray\")\n",
    "plt.show()  # pause before exiting"
   ]
  }
 ],
 "metadata": {
  "kernelspec": {
   "display_name": "Python 3 (ipykernel)",
   "language": "python",
   "name": "python3"
  },
  "language_info": {
   "codemirror_mode": {
    "name": "ipython",
    "version": 3
   },
   "file_extension": ".py",
   "mimetype": "text/x-python",
   "name": "python",
   "nbconvert_exporter": "python",
   "pygments_lexer": "ipython3",
   "version": "3.10.12"
  }
 },
 "nbformat": 4,
 "nbformat_minor": 5
}
