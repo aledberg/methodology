{
 "cells": [
  {
   "cell_type": "markdown",
   "id": "430ccf5a",
   "metadata": {},
   "source": [
    "# Lifespan of people born 1900"
   ]
  },
  {
   "cell_type": "markdown",
   "id": "2c66479a",
   "metadata": {},
   "source": [
    "In this notebook we will use real data on lifespans for people who were born 1900 and died in Sweden. The data come from Sveriges dödbok (Swedish death index), and are provided by the Federation of Swedish Genealogical Societies https://www.rotter.se/swedish-roots"
   ]
  },
  {
   "cell_type": "code",
   "execution_count": null,
   "id": "b6a1be3e",
   "metadata": {},
   "outputs": [],
   "source": [
    "import numpy as np\n",
    "from matplotlib import pyplot as plt\n",
    "import pandas as pd\n",
    "\n",
    "## reset default values for font size\n",
    "plt.rc('axes', titlesize=16) \n",
    "plt.rc('axes', labelsize=16) "
   ]
  },
  {
   "cell_type": "markdown",
   "id": "caa593b9",
   "metadata": {},
   "source": [
    "Load the file with dates of births and deaths: "
   ]
  },
  {
   "cell_type": "code",
   "execution_count": null,
   "id": "f834d43a",
   "metadata": {},
   "outputs": [],
   "source": [
    "## location of the dataset\n",
    "url=\"https://raw.githubusercontent.com/aledberg/methodology/main/born1900.csv\"\n",
    "## read this into a pandas dataframe\n",
    "dat=pd.read_csv(url)\n",
    "\n",
    "## look at the first 10 entries\n",
    "print(dat.head(10))"
   ]
  },
  {
   "cell_type": "markdown",
   "id": "c78ad721",
   "metadata": {},
   "source": [
    "To compute the lifespan (date of death - date of birth) we need to convert the dates from string to datetime format. "
   ]
  },
  {
   "cell_type": "code",
   "execution_count": null,
   "id": "2d5f9ed9",
   "metadata": {},
   "outputs": [],
   "source": [
    "## convert string dates to datetime\n",
    "dat['birthDate'] = pd.to_datetime(dat['birthDate'])\n",
    "dat['deathDate'] = pd.to_datetime(dat['deathDate'])\n",
    "\n",
    "## express the lifespan (age) in fractions of a year\n",
    "dat['age']=((dat['deathDate']-dat['birthDate']).dt.days)/365.25\n",
    "\n",
    "## look again at the first 10 rows\n",
    "print(dat.head(10))"
   ]
  },
  {
   "cell_type": "markdown",
   "id": "ba236d18",
   "metadata": {},
   "source": [
    "Now we can make a histogram showing the distribution of lifespans in this cohort."
   ]
  },
  {
   "cell_type": "code",
   "execution_count": null,
   "id": "1bbf716d",
   "metadata": {},
   "outputs": [],
   "source": [
    "ax=dat.hist('age',bins=100,grid=False,figsize=(12,8))\n",
    "ax=ax[0][0]\n",
    "ax.set(xlabel=\"age\", ylabel=\"number of deaths\")\n",
    "plt.title(\"Lifespan of people born 1900\")\n",
    "plt.show()"
   ]
  },
  {
   "cell_type": "markdown",
   "id": "79986b24",
   "metadata": {},
   "source": [
    "## Survival functions"
   ]
  },
  {
   "cell_type": "markdown",
   "id": "a8932cb3",
   "metadata": {},
   "source": [
    "The histogram makes it easy to see at what age the highest and lowest number of deaths occurred. It's harder to see what fraction of people in the cohort lived to be 60. Another representation of the data will make that easy: the survival function."
   ]
  },
  {
   "cell_type": "code",
   "execution_count": null,
   "id": "1c0a4484",
   "metadata": {},
   "outputs": [],
   "source": [
    "sortAge=dat['age'].sort_values()\n",
    "nAlive=np.array([len(sortAge)-i for i in [*range(len(dat))]])\n",
    "plt.figure(figsize=(12,8))\n",
    "plt.plot(sortAge,nAlive)\n",
    "plt.xlabel(\"age\")\n",
    "plt.ylabel(\"persons still alive\")\n",
    "plt.grid()\n",
    "plt.show()"
   ]
  },
  {
   "cell_type": "markdown",
   "id": "058d7d64",
   "metadata": {},
   "source": [
    "If we divide the number of people still alive with the total people in the cohort to start with, we get the survival function for the cohort. "
   ]
  },
  {
   "cell_type": "code",
   "execution_count": null,
   "id": "eeef803f",
   "metadata": {},
   "outputs": [],
   "source": [
    "pAlive=nAlive/len(nAlive)\n",
    "plt.figure(figsize=(12,8))\n",
    "plt.plot(sortAge,pAlive)\n",
    "plt.xlabel(\"age\")\n",
    "plt.ylabel(\"probability of still being alive\")\n",
    "plt.title(\"Survival of persons born 1900\")\n",
    "plt.grid()\n",
    "plt.show()"
   ]
  },
  {
   "cell_type": "markdown",
   "id": "46cef9c7",
   "metadata": {},
   "source": [
    "### Questions: \n",
    "At what age had half the cohort died? <br> \n",
    "What was the probability of living until 20 years of age?"
   ]
  },
  {
   "cell_type": "markdown",
   "id": "cd7fc069",
   "metadata": {},
   "source": [
    "## Differences in survival between men and women\n",
    "Let us next look at differences in survival between men and women. Do you think the survival functions differ? If so how? <br> Let's take a look:"
   ]
  },
  {
   "cell_type": "code",
   "execution_count": null,
   "id": "df26d086",
   "metadata": {},
   "outputs": [],
   "source": [
    "fig, ax = plt.subplots(figsize=(12,8))\n",
    "\n",
    "## men\n",
    "datm=dat[dat['sex']==\"m\"]\n",
    "sortAge=datm['age'].sort_values()\n",
    "nAlive=np.array([len(sortAge)-i for i in [*range(len(datm))]])\n",
    "nAlive=nAlive/len(nAlive)\n",
    "ax.plot(sortAge,nAlive)\n",
    "## women\n",
    "datw=dat[dat['sex']==\"k\"]\n",
    "sortAge=datw['age'].sort_values()\n",
    "nAlive=np.array([len(sortAge)-i for i in [*range(len(datw))]])\n",
    "nAlive=nAlive/len(nAlive)\n",
    "ax.plot(sortAge,nAlive)\n",
    "\n",
    "plt.xlabel(\"age\")\n",
    "plt.ylabel(\"probability of still being alive\")\n",
    "plt.grid()\n",
    "ax.legend([\"men\",\"women\"])\n",
    "plt.show()"
   ]
  },
  {
   "cell_type": "markdown",
   "id": "c92229a9",
   "metadata": {},
   "source": [
    "## Estimate the hazard function"
   ]
  },
  {
   "cell_type": "code",
   "execution_count": null,
   "id": "994b9b32",
   "metadata": {},
   "outputs": [],
   "source": [
    "## use simpel estimate, fraction of people dying during the next year\n",
    "dat['rage']=dat['age'].round()\n",
    "ndead=dat['rage'].value_counts()\n",
    "ndead=ndead.sort_index()\n",
    "ndead=[ i for i in ndead.values]\n",
    "ndead.insert(0,0)\n",
    "from itertools import accumulate\n",
    "cndead=list(accumulate(ndead))\n",
    "\n",
    "nalive=[len(dat)-i for i in cndead]\n",
    "## here we calculate the hazard \n",
    "haz=[]\n",
    "for i in range(len(ndead)):\n",
    "    haz.append(ndead[i]/nalive[i])\n",
    "\n",
    "plt.figure(figsize=(12,8))\n",
    "plt.plot(haz)\n",
    "plt.xlabel(\"age\")\n",
    "plt.ylabel(\"hazard rate (per year)\")\n",
    "plt.show()"
   ]
  },
  {
   "cell_type": "code",
   "execution_count": null,
   "id": "f368595d",
   "metadata": {},
   "outputs": [],
   "source": [
    "## use a log-scale to demonstrate the exponential increase\n",
    "plt.figure(figsize=(12,8))\n",
    "plt.plot(haz)\n",
    "plt.yscale(\"log\")\n",
    "plt.xlabel(\"age\")\n",
    "plt.ylabel(\"hazard rate (per year)\")\n",
    "plt.show()"
   ]
  },
  {
   "cell_type": "code",
   "execution_count": null,
   "id": "428c0195",
   "metadata": {},
   "outputs": [],
   "source": []
  }
 ],
 "metadata": {
  "kernelspec": {
   "display_name": "Python 3 (ipykernel)",
   "language": "python",
   "name": "python3"
  },
  "language_info": {
   "codemirror_mode": {
    "name": "ipython",
    "version": 3
   },
   "file_extension": ".py",
   "mimetype": "text/x-python",
   "name": "python",
   "nbconvert_exporter": "python",
   "pygments_lexer": "ipython3",
   "version": "3.10.12"
  }
 },
 "nbformat": 4,
 "nbformat_minor": 5
}
