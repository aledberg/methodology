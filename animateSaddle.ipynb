{
 "cells": [
  {
   "cell_type": "code",
   "execution_count": null,
   "metadata": {
    "colab": {
     "base_uri": "https://localhost:8080/",
     "height": 17
    },
    "executionInfo": {
     "elapsed": 306,
     "status": "ok",
     "timestamp": 1727377536118,
     "user": {
      "displayName": "Anders Ledberg",
      "userId": "02373442332912291966"
     },
     "user_tz": -120
    },
    "id": "NxWhPDfRaKmh",
    "outputId": "19774fb2-44f7-4c3e-a085-033362fe682f"
   },
   "outputs": [],
   "source": [
    "#%matplotlib widget\n",
    "import numpy as np\n",
    "import numpy.random as rnd\n",
    "import matplotlib.pyplot as plt\n",
    "from matplotlib.animation import FuncAnimation\n",
    "\n",
    "\n",
    "## simulate a realization of a motion in a potential\n",
    "T = 20000\n",
    "x = np.tile(0.0,T)\n",
    "dt = 0.1\n",
    "\n",
    "sqdt=np.sqrt(dt)\n",
    "x0=-1\n",
    "sigma = 0.34\n",
    "##sigma = 2.5\n",
    "## parameters controllong the height of the barrier\n",
    "beta=.17\n",
    "##beta=13\n",
    "xa = (np.array(range(150))-75)/10.\n",
    "\n",
    "def myenergy(x):\n",
    "    return(-x**3+beta*x)\n",
    "\n",
    "plt.plot(xa,myenergy(xa))\n",
    "plt.show()\n",
    "\n",
    "\n",
    "x[0]=x0\n",
    "t = 1\n",
    "while (t < T):\n",
    "    ## simple forward Euler\n",
    "    ##beta=beta - 0.0001\n",
    "    x[t] = x[t-1]+dt*(x[t-1]**2-beta)+sqdt*rnd.randn()*sigma\n",
    "    if (x[t] > 40):\n",
    "        break\n",
    "    t = t+1\n",
    "\n",
    "## need to downsample X a little\n",
    "tmax=t\n",
    "nx=x[10:tmax:2]\n",
    "##plt.plot(nx)\n",
    "##plt.show()\n",
    "\n",
    "\n"
   ]
  },
  {
   "cell_type": "code",
   "execution_count": null,
   "metadata": {
    "id": "dOBTKsy3rlC4"
   },
   "outputs": [],
   "source": [
    "## animate the motion in the potential\n",
    "from matplotlib import rc\n",
    "rc('animation', html='jshtml')\n",
    "\n",
    "fig, ax = plt.subplots()\n",
    "xdata, ydata = [], []\n",
    "ln, = ax.plot([], [], 'bo')\n",
    "\n",
    "text=plt.text(-0.5,-15,\"\",fontsize=16)\n",
    "\n",
    "def init():\n",
    "    ax.set_xlim(-2,3)\n",
    "    ax.set_ylim(-16, 4)\n",
    "    ax.plot(xa,-xa**3+beta*xa)\n",
    "    text.set_text(\"time = \" + str(0.0))\n",
    "    return ln,text\n",
    "\n",
    "def update(i):\n",
    "    ln.set_data([nx[i]], [myenergy(nx[i])])\n",
    "    text.set_text(\"time = \" +str(i))\n",
    "    return ln,text\n",
    "\n",
    "nframes=len(nx)\n",
    "ani = FuncAnimation(fig, update, frames=nframes,interval=50,\n",
    "                    init_func=init, blit=True, repeat=False)\n",
    "ani"
   ]
  }
 ],
 "metadata": {
  "colab": {
   "authorship_tag": "ABX9TyMmzlmJ3nevFt7mNZoQAmC5",
   "provenance": []
  },
  "kernelspec": {
   "display_name": "Python 3 (ipykernel)",
   "language": "python",
   "name": "python3"
  },
  "language_info": {
   "codemirror_mode": {
    "name": "ipython",
    "version": 3
   },
   "file_extension": ".py",
   "mimetype": "text/x-python",
   "name": "python",
   "nbconvert_exporter": "python",
   "pygments_lexer": "ipython3",
   "version": "3.10.12"
  }
 },
 "nbformat": 4,
 "nbformat_minor": 4
}
