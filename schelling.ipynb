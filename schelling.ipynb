{
 "cells": [
  {
   "cell_type": "markdown",
   "id": "1013ed81",
   "metadata": {},
   "source": [
    "# Schelling's model of segregation\n",
    "\n",
    "### Anders Ledberg\n",
    "\n",
    "This notebook contains code for running inmplementation of Schelling's mode of segregation. The implementaiton of the model is borrowed from Luca Mingarelli [https://lucamingarelli.com/Teaching/schelling.html]."
   ]
  },
  {
   "cell_type": "code",
   "execution_count": null,
   "id": "06b9de86",
   "metadata": {},
   "outputs": [],
   "source": [
    "## load stuff we need\n",
    "import matplotlib.pyplot as plt\n",
    "import matplotlib.cm as cm\n",
    "import matplotlib.animation as animation\n",
    "import mingarelli as lm ## for luca mingarelli"
   ]
  },
  {
   "cell_type": "markdown",
   "id": "d29a2e5a",
   "metadata": {},
   "source": [
    "Set the parameters we need"
   ]
  },
  {
   "cell_type": "code",
   "execution_count": null,
   "id": "accea2f4",
   "metadata": {},
   "outputs": [],
   "source": [
    "N = 70       # Grid will be N x N\n",
    "SIM_T = 0.4  # Similarity threshold (that is 1-τ)\n",
    "EMPTY = 0.25  # Fraction of vacant properties\n",
    "B_to_R = 1   # Ratio of \"blue\" to \"red\" people"
   ]
  },
  {
   "cell_type": "markdown",
   "id": "2d605dc4",
   "metadata": {},
   "source": [
    "Run the model and generate frames for the animation"
   ]
  },
  {
   "cell_type": "code",
   "execution_count": null,
   "id": "f8b6fcfc",
   "metadata": {},
   "outputs": [],
   "source": [
    "## set random initial conditions\n",
    "M=lm.rand_init(N,B_to_R,EMPTY)\n",
    "frames=[]\n",
    "niter=35\n",
    "##fig=plt.figure()\n",
    "fig=plt.figure(figsize=(10,10))\n",
    "for i in range(niter):\n",
    "    frames.append([plt.imshow(M, cmap=cm.Greys_r,animated=True)])\n",
    "    ##frames.append([plt.imshow(M,animated=True)])\n",
    "    lm.evolve(M,sim_T=SIM_T)\n",
    "plt.close();\n",
    "ani = animation.ArtistAnimation(fig, frames, interval=1000, blit=True,repeat_delay=100,repeat=False)"
   ]
  },
  {
   "cell_type": "code",
   "execution_count": null,
   "id": "eb0923ce",
   "metadata": {},
   "outputs": [],
   "source": [
    "from IPython.display import HTML\n",
    "from IPython.display import display\n",
    "##HTML(ani.to_html5_video())\n",
    "display(HTML(ani.to_jshtml()))"
   ]
  },
  {
   "cell_type": "code",
   "execution_count": null,
   "id": "760d0557",
   "metadata": {},
   "outputs": [],
   "source": []
  }
 ],
 "metadata": {
  "kernelspec": {
   "display_name": "Python 3 (ipykernel)",
   "language": "python",
   "name": "python3"
  },
  "language_info": {
   "codemirror_mode": {
    "name": "ipython",
    "version": 3
   },
   "file_extension": ".py",
   "mimetype": "text/x-python",
   "name": "python",
   "nbconvert_exporter": "python",
   "pygments_lexer": "ipython3",
   "version": "3.10.12"
  }
 },
 "nbformat": 4,
 "nbformat_minor": 5
}
