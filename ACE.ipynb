{
 "cells": [
  {
   "cell_type": "markdown",
   "id": "d34f8b90",
   "metadata": {},
   "source": [
    "# Causal effects, individual versus average\n",
    "\n",
    "### Anders Ledberg\n",
    "\n",
    "\n",
    "## Introduction\n",
    "In this notebook we will use a simple dice game to illustrate the important difference between individual and average causal effects. Causal effects (i.e., the effects of some particular cause) are usually defined with respect to a causal model, and here I will use the \"interventionist model\" developed by Judea Pearl and others. According to this model, an average causal effect is defined as the consequences of fixing some parameter in a causal model, and letting the other parameters vary (for a more accurate description see [Pearl 2009](http://bayes.cs.ucla.edu/BOOK-2K/)). Hopefully this becomes clear in the example of the dice game below.\n",
    "\n",
    "\n",
    "### The game\n",
    "\n",
    "The player rolls two die (called $d1$ and $d2$ below), and wins 1$\\unicode{x20AC}$ if the sum of the die exceeds 9 and nothing otherwise. \n",
    "\n",
    "### Problem 1: average causal effect\n",
    "\n",
    "What is the average causal effect of making the second die always give a six? Intuitively, this is the difference in chance (probability) of winning between when setting one of the dies to six, and rolling the other, and when rolling both dies (i.e., letting the outcome of both dies be ruled by chance). We can denote this difference: $Pr(\\text{win}|do(d2=6))-Pr(\\text{win})$. Here \"$Pr(\\text{win})$\" denotes the probability of winning one euro before forcing the second die (by cheating perhaps) to always give a six, and $Pr(\\text{win}|do(d2=6))$ the corresponding probability of winning, when setting the second die to 6. The \"do-operator\" in the above expression should be interpreted as us forcing the second die to always take the value 6.\n",
    "\n",
    "#### Solution\n",
    "\n",
    "In this case we can solve the problem simply by counting. There are 36 possible outcomes when rolling two dies ($6\\cdot 6$), many of the outcome giving the same sum. To win the Euro the sum must be 12, 11, or 10, and this can happen in $1+2+3=6$ ways. This shows that $Pr(\\text{win})=6/36=1/6$. To calculate $Pr(\\text{win}|do(d2=6))$, we must count the number of ways in which $d1+6$ is bigger than 9. This happens when $d1=\\{4,5,6\\}$ but not when $d1=\\{1,2,3\\}$, hence \n",
    "$Pr(\\text{win}|do(d2=6))=0.5$. Thus, the average causal effect of setting the second die to 6 is an increase in the probability of winning by $1/2-1/6=1/3$.\n",
    "\n",
    "#### Solution using Python\n",
    "\n",
    "Please use Python to solve the same problem. You may use the code below to get you started. "
   ]
  },
  {
   "cell_type": "code",
   "execution_count": null,
   "id": "0db0f3df",
   "metadata": {},
   "outputs": [],
   "source": [
    "## import random number generator\n",
    "from random import randint\n",
    "\n",
    "## define function that rolls a (six-sided) die\n",
    "def roll_a_die():\n",
    "    return(randint(1,6))\n",
    "## test the function\n",
    "print(roll_a_die())"
   ]
  },
  {
   "cell_type": "markdown",
   "id": "c36cd83c",
   "metadata": {},
   "source": [
    "Hint 1: to roll the die many times (which you need to estimate the probability) you can use a for-loop"
   ]
  },
  {
   "cell_type": "code",
   "execution_count": null,
   "id": "bb4bf39e",
   "metadata": {},
   "outputs": [],
   "source": [
    "## for-loop that emulates rolling a die N times\n",
    "N=10\n",
    "d1=list()\n",
    "for i in range(N): \n",
    "    d1.append(roll_a_die())\n",
    "## print the results\n",
    "print(d1)"
   ]
  },
  {
   "cell_type": "markdown",
   "id": "d156681b",
   "metadata": {},
   "source": [
    "Hint 2: To compute the sum of two die and check if it exceeds 9 you can do this:"
   ]
  },
  {
   "cell_type": "code",
   "execution_count": null,
   "id": "1b25fac6",
   "metadata": {},
   "outputs": [],
   "source": [
    "## sum two die\n",
    "s=roll_a_die()+roll_a_die()\n",
    "## check the result\n",
    "print(s)\n",
    "## check of sum is greater than 9\n",
    "r=s>9\n",
    "print(r)"
   ]
  },
  {
   "cell_type": "markdown",
   "id": "2cd778d7",
   "metadata": {},
   "source": [
    "Try now to use these building blocks to estimate $Pr(\\text{win})$."
   ]
  },
  {
   "cell_type": "markdown",
   "id": "1ff3df5c",
   "metadata": {},
   "source": [
    "### Problem 2: individual causal effects\n",
    "\n",
    "The average causal effect investigated above is indeed an _average_ as the Python simulations made clear. In this case we are averaging over different plays (instances) of the dice game. We can think of the repeated games as either resulting from one person playing many times, or many persons playing one time; for the average causal effect it does not matter which, the important thing is that one game is indistinguishable from any other (before rolling the die(s)). \n",
    "\n",
    "Sometimes average causal effects are exactly the thing we are interested in. Think of some relevant examples for public health. \n",
    "\n",
    "However, sometimes we are interested in individual causal effects, that is, causal effects that cannot be conceptualized as averages over many repetitions, effects pertaining to a single event. Some examples: \n",
    "\n",
    "- _Would I still have a fever if I had not taken the medicine_? \n",
    "This is not a question about a general tendency about medicine being effective in treating fever, but a question about this particular instance of fever, in this particular person (me). \n",
    "- _What would the Earth global temperature be if humans had released only half the amount of greenhouse gasses during the 20th century_? Again, this is not a question to be answered by taking averages over repetitions; it's a question about _this_ planet, and _this_ historical time epoch.\n",
    "- _Would fewer people have died during the first wave of the COVID-19 pandemic in Stockholm, Sweden, if people traveling back from the Alps had been instructed to quarantine_? This is not a questions about general effects of quarantine, but about a particular place and a particular time.\n",
    "\n",
    "To think intuitively about causal effects in these cases we might use metaphors such as \"rewinding time\", or \"parallel worlds\". We want to change one thing that already happened (taking medicine, emitting greenhouse gasses, not issuing quarantine mandates), while keeping everything else the same, and see how events unfold. The 1998 movie \"Sliding Doors\" is a entertaining take on this and displays two different stories that depend on if the main character catches a train or not. More constructively, individual causal effects can be investigated in model systems where it may be possible to play out different scenarios with just changing one particular thing.\n",
    "\n",
    "Let's return to the game of dice. Here the individual causal effect can be phrased as follows: _Assume you roll the dice, the second dice (d2) shows a 4, and you did not win the Euro. Would you have won had d2 been a 6 instead_? Note how we are asking about what would happen in _this_ particular instance of the game, not for an average change. Try to answer this question. What additional information is needed to answer it? "
   ]
  }
 ],
 "metadata": {
  "kernelspec": {
   "display_name": "Python 3 (ipykernel)",
   "language": "python",
   "name": "python3"
  },
  "language_info": {
   "codemirror_mode": {
    "name": "ipython",
    "version": 3
   },
   "file_extension": ".py",
   "mimetype": "text/x-python",
   "name": "python",
   "nbconvert_exporter": "python",
   "pygments_lexer": "ipython3",
   "version": "3.10.12"
  }
 },
 "nbformat": 4,
 "nbformat_minor": 5
}
