{
 "cells": [
  {
   "cell_type": "markdown",
   "id": "1860d596",
   "metadata": {},
   "source": [
    "# Roll the die"
   ]
  },
  {
   "cell_type": "code",
   "execution_count": null,
   "id": "a8d5c4ee",
   "metadata": {},
   "outputs": [],
   "source": [
    "## define a function that returns 1-6 with same probability\n",
    "def dice(N=1):\n",
    "    import random\n",
    "    out=[]\n",
    "    for i in range(N):\n",
    "        out.append(random.randrange(1,7))\n",
    "    return out"
   ]
  },
  {
   "cell_type": "markdown",
   "id": "efe428cc",
   "metadata": {},
   "source": [
    "Call the function (roll the die)"
   ]
  },
  {
   "cell_type": "code",
   "execution_count": null,
   "id": "bca27306",
   "metadata": {},
   "outputs": [],
   "source": [
    "die=dice(1)\n",
    "print(die)"
   ]
  },
  {
   "cell_type": "markdown",
   "id": "95f9a5d5",
   "metadata": {},
   "source": [
    "Roll it many times"
   ]
  },
  {
   "cell_type": "code",
   "execution_count": null,
   "id": "ee68ea39",
   "metadata": {},
   "outputs": [],
   "source": [
    "die=dice(20)\n",
    "print(die)"
   ]
  }
 ],
 "metadata": {
  "kernelspec": {
   "display_name": "Python 3 (ipykernel)",
   "language": "python",
   "name": "python3"
  },
  "language_info": {
   "codemirror_mode": {
    "name": "ipython",
    "version": 3
   },
   "file_extension": ".py",
   "mimetype": "text/x-python",
   "name": "python",
   "nbconvert_exporter": "python",
   "pygments_lexer": "ipython3",
   "version": "3.10.12"
  }
 },
 "nbformat": 4,
 "nbformat_minor": 5
}
