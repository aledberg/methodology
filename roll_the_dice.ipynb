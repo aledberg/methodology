{
 "cells": [
  {
   "cell_type": "markdown",
   "id": "1860d596",
   "metadata": {},
   "source": [
    "# Roll the die"
   ]
  },
  {
   "cell_type": "code",
   "execution_count": 1,
   "id": "a8d5c4ee",
   "metadata": {},
   "outputs": [],
   "source": [
    "## define a function that returns 1-6 with same probability\n",
    "def dice(N=1):\n",
    "    import random\n",
    "    out=[]\n",
    "    for i in range(N):\n",
    "        out.append(random.randrange(1,7))\n",
    "    return out"
   ]
  },
  {
   "cell_type": "markdown",
   "id": "efe428cc",
   "metadata": {},
   "source": [
    "Call the function (roll the die)"
   ]
  },
  {
   "cell_type": "code",
   "execution_count": 2,
   "id": "bca27306",
   "metadata": {},
   "outputs": [
    {
     "name": "stdout",
     "output_type": "stream",
     "text": [
      "[3]\n"
     ]
    }
   ],
   "source": [
    "die=dice(1)\n",
    "print(die)"
   ]
  },
  {
   "cell_type": "markdown",
   "id": "95f9a5d5",
   "metadata": {},
   "source": [
    "Roll it many times"
   ]
  },
  {
   "cell_type": "code",
   "execution_count": 3,
   "id": "ee68ea39",
   "metadata": {},
   "outputs": [
    {
     "name": "stdout",
     "output_type": "stream",
     "text": [
      "[5, 3, 2, 4, 2, 1, 1, 5, 1, 3, 3, 4, 4, 5, 4, 1, 5, 4, 1, 1]\n"
     ]
    }
   ],
   "source": [
    "die=dice(20)\n",
    "print(die)"
   ]
  },
  {
   "cell_type": "code",
   "execution_count": 13,
   "id": "6eb1e6fb",
   "metadata": {},
   "outputs": [
    {
     "name": "stdout",
     "output_type": "stream",
     "text": [
      "0.237\n"
     ]
    }
   ],
   "source": [
    "## estimate probability of five dice showing more than 20\n",
    "nsim=1000\n",
    "res=list()\n",
    "for i in range(nsim):\n",
    "    res.append(sum(dice(5))>20)\n",
    "print(sum(res)/nsim)"
   ]
  }
 ],
 "metadata": {
  "kernelspec": {
   "display_name": "Python 3 (ipykernel)",
   "language": "python",
   "name": "python3"
  },
  "language_info": {
   "codemirror_mode": {
    "name": "ipython",
    "version": 3
   },
   "file_extension": ".py",
   "mimetype": "text/x-python",
   "name": "python",
   "nbconvert_exporter": "python",
   "pygments_lexer": "ipython3",
   "version": "3.10.12"
  }
 },
 "nbformat": 4,
 "nbformat_minor": 5
}
