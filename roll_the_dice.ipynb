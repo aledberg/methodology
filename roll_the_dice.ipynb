{
 "cells": [
  {
   "cell_type": "markdown",
   "id": "3e5cf71e",
   "metadata": {},
   "source": [
    "# Roll the die"
   ]
  },
  {
   "cell_type": "code",
   "execution_count": 1,
   "id": "c5f3359a",
   "metadata": {},
   "outputs": [],
   "source": [
    "## define a function that returns 1-6 with same probability\n",
    "def dice(N=1):\n",
    "    import random\n",
    "    out=[]\n",
    "    for i in range(N):\n",
    "        out.append(random.randrange(1,7))\n",
    "    return out"
   ]
  },
  {
   "cell_type": "markdown",
   "id": "ee503db1",
   "metadata": {},
   "source": [
    "Call the function (roll the die)"
   ]
  },
  {
   "cell_type": "code",
   "execution_count": 2,
   "id": "b1c4e984",
   "metadata": {},
   "outputs": [
    {
     "name": "stdout",
     "output_type": "stream",
     "text": [
      "[5]\n"
     ]
    }
   ],
   "source": [
    "die=dice(1)\n",
    "print(die)"
   ]
  },
  {
   "cell_type": "markdown",
   "id": "1c5c9a97",
   "metadata": {},
   "source": [
    "Roll it many times"
   ]
  },
  {
   "cell_type": "code",
   "execution_count": 3,
   "id": "846d5911",
   "metadata": {},
   "outputs": [
    {
     "name": "stdout",
     "output_type": "stream",
     "text": [
      "[4, 1, 3, 3, 5, 1, 3, 4, 4, 2, 4, 4, 5, 2, 6, 3, 3, 5, 3, 5]\n"
     ]
    }
   ],
   "source": [
    "die=dice(20)\n",
    "print(die)"
   ]
  }
 ],
 "metadata": {
  "kernelspec": {
   "display_name": "Python 3 (ipykernel)",
   "language": "python",
   "name": "python3"
  },
  "language_info": {
   "codemirror_mode": {
    "name": "ipython",
    "version": 3
   },
   "file_extension": ".py",
   "mimetype": "text/x-python",
   "name": "python",
   "nbconvert_exporter": "python",
   "pygments_lexer": "ipython3",
   "version": "3.10.12"
  }
 },
 "nbformat": 4,
 "nbformat_minor": 5
}
