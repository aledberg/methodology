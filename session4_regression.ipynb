{
 "cells": [
  {
   "cell_type": "markdown",
   "id": "451cb379",
   "metadata": {},
   "source": [
    "Code to read, plot and make a regression of weight on length"
   ]
  },
  {
   "cell_type": "code",
   "execution_count": null,
   "id": "432fbdc3",
   "metadata": {},
   "outputs": [],
   "source": [
    "import pandas as pd\n",
    "from sklearn.linear_model import LinearRegression\n",
    "from sklearn.model_selection import train_test_split\n",
    "import matplotlib.pyplot as plt\n",
    "\n",
    "## web address to the spreadsheet\n",
    "sheet_url= \"https://docs.google.com/spreadsheets/d/14iptaxGKNX85l_DOzLpojJdClXatP8_1_dTKhpSgSHM/export?format=csv\"\n",
    "\n",
    "# Read the data into a Pandas DataFrame\n",
    "df = pd.read_csv(sheet_url)\n",
    "\n",
    "# Extract the data for convenience, 'X' and 'Y'\n",
    "y = df['weight (kg)']    # Dependent variable\n",
    "X = df[['height (m)']]  # Independent variable\n",
    "\n",
    "\n",
    "model = LinearRegression()\n",
    "model.fit(X, y)\n",
    "\n",
    "# Print the model's coefficients and intercept\n",
    "print('Coefficients:', model.coef_)\n",
    "print('Intercept:', model.intercept_)\n",
    "\n",
    "## predict\n",
    "y_pred=model.predict(X)\n",
    "\n",
    "# Plot the regression line and the data points\n",
    "plt.scatter(X, y, color='blue')\n",
    "plt.plot(X, y_pred, color='red')\n",
    "plt.xlabel('height')\n",
    "plt.ylabel('weight')\n",
    "plt.title('Linear Regression')\n",
    "plt.show()\n"
   ]
  },
  {
   "cell_type": "code",
   "execution_count": null,
   "id": "1d20ca52",
   "metadata": {},
   "outputs": [],
   "source": []
  }
 ],
 "metadata": {
  "kernelspec": {
   "display_name": "Python 3 (ipykernel)",
   "language": "python",
   "name": "python3"
  },
  "language_info": {
   "codemirror_mode": {
    "name": "ipython",
    "version": 3
   },
   "file_extension": ".py",
   "mimetype": "text/x-python",
   "name": "python",
   "nbconvert_exporter": "python",
   "pygments_lexer": "ipython3",
   "version": "3.10.12"
  }
 },
 "nbformat": 4,
 "nbformat_minor": 5
}
